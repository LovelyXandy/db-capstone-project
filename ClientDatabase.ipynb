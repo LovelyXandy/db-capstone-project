{
 "cells": [
  {
   "cell_type": "code",
   "execution_count": null,
   "id": "0879d582-2235-4c47-bc3c-05d638a13a98",
   "metadata": {},
   "outputs": [],
   "source": [
    "!pip install mysql-connector-python"
   ]
  },
  {
   "cell_type": "markdown",
   "id": "96cba779-2538-42a4-97a6-bdb42a141ff6",
   "metadata": {},
   "source": [
    "<h1>Task 1- connect</h1>"
   ]
  },
  {
   "cell_type": "code",
   "execution_count": 1,
   "id": "0710ef80-e5df-41b9-8455-b2fb797c2e52",
   "metadata": {},
   "outputs": [],
   "source": [
    "import mysql.connector as connector"
   ]
  },
  {
   "cell_type": "code",
   "execution_count": 2,
   "id": "e9139b1a-fdf1-41d9-bf10-b3482a14529a",
   "metadata": {},
   "outputs": [],
   "source": [
    "connection=connector.connect(port=3306, user='littlelemon', password='mario', db= 'LittleLemonDB')"
   ]
  },
  {
   "cell_type": "code",
   "execution_count": 3,
   "id": "1ae8f5b8-304f-4bd4-a8b5-9e97920c3598",
   "metadata": {},
   "outputs": [],
   "source": [
    "cursor=connection.cursor()"
   ]
  },
  {
   "cell_type": "markdown",
   "id": "9b5c8378-acd3-4752-9715-b7a300814c11",
   "metadata": {},
   "source": [
    "<h1>Task 2 - simple query</h1>"
   ]
  },
  {
   "cell_type": "code",
   "execution_count": 4,
   "id": "ead69163-9d3b-4c11-9a3c-97afafe6f623",
   "metadata": {},
   "outputs": [
    {
     "name": "stdout",
     "output_type": "stream",
     "text": [
      "('address',)\n",
      "('bookings',)\n",
      "('course',)\n",
      "('customer',)\n",
      "('delivery',)\n",
      "('employee',)\n",
      "('menu',)\n",
      "('menuitems',)\n",
      "('orderitems',)\n",
      "('orders',)\n",
      "('ordersview',)\n"
     ]
    }
   ],
   "source": [
    "show_tables_query = \"SHOW TABLES\"\n",
    "cursor.execute(show_tables_query)\n",
    "results= cursor.fetchall()\n",
    "for tables in results:\n",
    "    print(tables)"
   ]
  },
  {
   "cell_type": "markdown",
   "id": "b79a3f16-ebf0-4d29-8c36-463898de33b7",
   "metadata": {},
   "source": [
    "<h1>Task 3 - Join Query</h1>"
   ]
  },
  {
   "cell_type": "code",
   "execution_count": 5,
   "id": "8f8726ec-b7cc-4f5a-a3ca-f3fa58f56c73",
   "metadata": {},
   "outputs": [
    {
     "name": "stdout",
     "output_type": "stream",
     "text": [
      "('CustomerName', 'Email', 'ContactNumber', 'street', 'city', 'state', 'ZipCode', 'TotalSales')\n",
      "('Fake PersonA', 'test@test.com', 1555999, '1 Blah street', 'City place', 'In the state', '11111', Decimal('909'))\n",
      "('Notreal PersonB', 'notreal@fake.com', 1666888, '2 Blah street', 'Other City place', 'Out the state', '22222', Decimal('204'))\n"
     ]
    }
   ],
   "source": [
    "#Note: I have separate tables for address and have menuItems (m:1 with orderItems), orderItems (m:1 with orders) and orders that have to be joined\n",
    "query=\"\"\"\n",
    "Select CustomerName, Email, ContactNumber, address.street, address.city, address.state, address.ZipCode, sum(quantity*price) as TotalSales\n",
    "from orderitems left join orders on orderitems.orderId = orders.idOrders\n",
    "left join menuItems on orderitems.MenuItemID = menuItems.idMenuItems\n",
    "left join customer on customer.idcustomer = orders.customerID\n",
    "left join Address on customer.AddressID = Address.idaddress\n",
    "group by customer.idcustomer\n",
    "having TotalSales > 60;\"\"\"\n",
    "\n",
    "cursor.execute(query)\n",
    "results = cursor.fetchall()\n",
    "\n",
    "print(cursor.column_names)\n",
    "\n",
    "for row in results:\n",
    "    print(row)"
   ]
  },
  {
   "cell_type": "code",
   "execution_count": 6,
   "id": "8a972d0f-ff2c-4456-92be-a8bd7abf5888",
   "metadata": {},
   "outputs": [],
   "source": [
    "#Close stuff\n",
    "cursor.close()\n",
    "connection.close()"
   ]
  },
  {
   "cell_type": "code",
   "execution_count": null,
   "id": "df4cc6de-05f4-4689-95c5-d8b52238ebb8",
   "metadata": {},
   "outputs": [],
   "source": []
  }
 ],
 "metadata": {
  "kernelspec": {
   "display_name": "Python 3 (ipykernel)",
   "language": "python",
   "name": "python3"
  },
  "language_info": {
   "codemirror_mode": {
    "name": "ipython",
    "version": 3
   },
   "file_extension": ".py",
   "mimetype": "text/x-python",
   "name": "python",
   "nbconvert_exporter": "python",
   "pygments_lexer": "ipython3",
   "version": "3.12.3"
  }
 },
 "nbformat": 4,
 "nbformat_minor": 5
}
